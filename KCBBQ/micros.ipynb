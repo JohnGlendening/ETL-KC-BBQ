{
 "cells": [
  {
   "cell_type": "code",
   "execution_count": 1,
   "metadata": {},
   "outputs": [],
   "source": [
    "import pandas as pd\n",
    "import sqlite3\n",
    "from sqlalchemy import create_engine"
   ]
  },
  {
   "cell_type": "markdown",
   "metadata": {
    "slideshow": {
     "slide_type": "-"
    }
   },
   "source": [
    "### Store CSV into DataFrame"
   ]
  },
  {
   "cell_type": "code",
   "execution_count": 2,
   "metadata": {},
   "outputs": [
    {
     "data": {
      "text/html": [
       "<div>\n",
       "<style scoped>\n",
       "    .dataframe tbody tr th:only-of-type {\n",
       "        vertical-align: middle;\n",
       "    }\n",
       "\n",
       "    .dataframe tbody tr th {\n",
       "        vertical-align: top;\n",
       "    }\n",
       "\n",
       "    .dataframe thead th {\n",
       "        text-align: right;\n",
       "    }\n",
       "</style>\n",
       "<table border=\"1\" class=\"dataframe\">\n",
       "  <thead>\n",
       "    <tr style=\"text-align: right;\">\n",
       "      <th></th>\n",
       "      <th>id</th>\n",
       "      <th>kcbs_competition_id</th>\n",
       "      <th>name</th>\n",
       "      <th>location</th>\n",
       "      <th>state</th>\n",
       "      <th>start_date</th>\n",
       "      <th>is_state_championship</th>\n",
       "      <th>prize_amount</th>\n",
       "      <th>percent_judges_certified</th>\n",
       "      <th>created_at</th>\n",
       "      <th>updated_at</th>\n",
       "    </tr>\n",
       "  </thead>\n",
       "  <tbody>\n",
       "    <tr>\n",
       "      <th>0</th>\n",
       "      <td>1</td>\n",
       "      <td>614</td>\n",
       "      <td>Gator Hammock Wild Pig &amp; Pepper Jam</td>\n",
       "      <td>Felda, FL</td>\n",
       "      <td>FL</td>\n",
       "      <td>2007-01-01</td>\n",
       "      <td>True</td>\n",
       "      <td>NaN</td>\n",
       "      <td>NaN</td>\n",
       "      <td>2018-11-17 23:04:25</td>\n",
       "      <td>2018-11-17 23:04:25</td>\n",
       "    </tr>\n",
       "    <tr>\n",
       "      <th>1</th>\n",
       "      <td>2</td>\n",
       "      <td>621</td>\n",
       "      <td>North Kansas City BBQ</td>\n",
       "      <td>North Kansas City, MO</td>\n",
       "      <td>MO</td>\n",
       "      <td>2007-03-09</td>\n",
       "      <td>True</td>\n",
       "      <td>NaN</td>\n",
       "      <td>NaN</td>\n",
       "      <td>2018-11-17 23:04:25</td>\n",
       "      <td>2018-11-17 23:04:25</td>\n",
       "    </tr>\n",
       "    <tr>\n",
       "      <th>2</th>\n",
       "      <td>3</td>\n",
       "      <td>624</td>\n",
       "      <td>Smokin Red Dirt Cookoff</td>\n",
       "      <td>Enid, OK</td>\n",
       "      <td>OK</td>\n",
       "      <td>2007-04-13</td>\n",
       "      <td>True</td>\n",
       "      <td>NaN</td>\n",
       "      <td>NaN</td>\n",
       "      <td>2018-11-17 23:04:25</td>\n",
       "      <td>2018-11-17 23:04:25</td>\n",
       "    </tr>\n",
       "    <tr>\n",
       "      <th>3</th>\n",
       "      <td>4</td>\n",
       "      <td>625</td>\n",
       "      <td>Smoke in the Spring</td>\n",
       "      <td>Osage City, KS</td>\n",
       "      <td>KS</td>\n",
       "      <td>2007-04-13</td>\n",
       "      <td>True</td>\n",
       "      <td>NaN</td>\n",
       "      <td>NaN</td>\n",
       "      <td>2018-11-17 23:04:26</td>\n",
       "      <td>2018-11-17 23:04:26</td>\n",
       "    </tr>\n",
       "    <tr>\n",
       "      <th>4</th>\n",
       "      <td>5</td>\n",
       "      <td>626</td>\n",
       "      <td>BBQ'n at the Autry</td>\n",
       "      <td>Los Angeles, CA</td>\n",
       "      <td>CA</td>\n",
       "      <td>2007-04-13</td>\n",
       "      <td>True</td>\n",
       "      <td>NaN</td>\n",
       "      <td>NaN</td>\n",
       "      <td>2018-11-17 23:04:26</td>\n",
       "      <td>2018-11-17 23:04:26</td>\n",
       "    </tr>\n",
       "  </tbody>\n",
       "</table>\n",
       "</div>"
      ],
      "text/plain": [
       "   id  kcbs_competition_id                                 name  \\\n",
       "0   1                  614  Gator Hammock Wild Pig & Pepper Jam   \n",
       "1   2                  621                North Kansas City BBQ   \n",
       "2   3                  624              Smokin Red Dirt Cookoff   \n",
       "3   4                  625                  Smoke in the Spring   \n",
       "4   5                  626                   BBQ'n at the Autry   \n",
       "\n",
       "                location state  start_date  is_state_championship  \\\n",
       "0              Felda, FL    FL  2007-01-01                   True   \n",
       "1  North Kansas City, MO    MO  2007-03-09                   True   \n",
       "2               Enid, OK    OK  2007-04-13                   True   \n",
       "3         Osage City, KS    KS  2007-04-13                   True   \n",
       "4        Los Angeles, CA    CA  2007-04-13                   True   \n",
       "\n",
       "   prize_amount  percent_judges_certified           created_at  \\\n",
       "0           NaN                       NaN  2018-11-17 23:04:25   \n",
       "1           NaN                       NaN  2018-11-17 23:04:25   \n",
       "2           NaN                       NaN  2018-11-17 23:04:25   \n",
       "3           NaN                       NaN  2018-11-17 23:04:26   \n",
       "4           NaN                       NaN  2018-11-17 23:04:26   \n",
       "\n",
       "            updated_at  \n",
       "0  2018-11-17 23:04:25  \n",
       "1  2018-11-17 23:04:25  \n",
       "2  2018-11-17 23:04:25  \n",
       "3  2018-11-17 23:04:26  \n",
       "4  2018-11-17 23:04:26  "
      ]
     },
     "execution_count": 2,
     "metadata": {},
     "output_type": "execute_result"
    }
   ],
   "source": [
    "csv_file = \"../Resources/competitions.csv\"\n",
    "competitions_df = pd.read_csv(csv_file)\n",
    "competitions_df.head()"
   ]
  },
  {
   "cell_type": "markdown",
   "metadata": {},
   "source": [
    "### Create new data with select columns"
   ]
  },
  {
   "cell_type": "code",
   "execution_count": 3,
   "metadata": {},
   "outputs": [
    {
     "data": {
      "text/html": [
       "<div>\n",
       "<style scoped>\n",
       "    .dataframe tbody tr th:only-of-type {\n",
       "        vertical-align: middle;\n",
       "    }\n",
       "\n",
       "    .dataframe tbody tr th {\n",
       "        vertical-align: top;\n",
       "    }\n",
       "\n",
       "    .dataframe thead th {\n",
       "        text-align: right;\n",
       "    }\n",
       "</style>\n",
       "<table border=\"1\" class=\"dataframe\">\n",
       "  <thead>\n",
       "    <tr style=\"text-align: right;\">\n",
       "      <th></th>\n",
       "      <th>id</th>\n",
       "      <th>kcbs_competition_id</th>\n",
       "      <th>location</th>\n",
       "      <th>start_date</th>\n",
       "    </tr>\n",
       "  </thead>\n",
       "  <tbody>\n",
       "    <tr>\n",
       "      <th>0</th>\n",
       "      <td>1</td>\n",
       "      <td>614</td>\n",
       "      <td>Felda, FL</td>\n",
       "      <td>2007-01-01</td>\n",
       "    </tr>\n",
       "    <tr>\n",
       "      <th>1</th>\n",
       "      <td>2</td>\n",
       "      <td>621</td>\n",
       "      <td>North Kansas City, MO</td>\n",
       "      <td>2007-03-09</td>\n",
       "    </tr>\n",
       "    <tr>\n",
       "      <th>2</th>\n",
       "      <td>3</td>\n",
       "      <td>624</td>\n",
       "      <td>Enid, OK</td>\n",
       "      <td>2007-04-13</td>\n",
       "    </tr>\n",
       "    <tr>\n",
       "      <th>3</th>\n",
       "      <td>4</td>\n",
       "      <td>625</td>\n",
       "      <td>Osage City, KS</td>\n",
       "      <td>2007-04-13</td>\n",
       "    </tr>\n",
       "    <tr>\n",
       "      <th>4</th>\n",
       "      <td>5</td>\n",
       "      <td>626</td>\n",
       "      <td>Los Angeles, CA</td>\n",
       "      <td>2007-04-13</td>\n",
       "    </tr>\n",
       "  </tbody>\n",
       "</table>\n",
       "</div>"
      ],
      "text/plain": [
       "   id  kcbs_competition_id               location  start_date\n",
       "0   1                  614              Felda, FL  2007-01-01\n",
       "1   2                  621  North Kansas City, MO  2007-03-09\n",
       "2   3                  624               Enid, OK  2007-04-13\n",
       "3   4                  625         Osage City, KS  2007-04-13\n",
       "4   5                  626        Los Angeles, CA  2007-04-13"
      ]
     },
     "execution_count": 3,
     "metadata": {},
     "output_type": "execute_result"
    }
   ],
   "source": [
    "competitions_df = competitions_df[['id', 'kcbs_competition_id', 'location', 'start_date']].copy()\n",
    "competitions_df.head()"
   ]
  },
  {
   "cell_type": "code",
   "execution_count": null,
   "metadata": {},
   "outputs": [],
   "source": []
  },
  {
   "cell_type": "markdown",
   "metadata": {},
   "source": [
    "### Store JSON data into a DataFrame"
   ]
  },
  {
   "cell_type": "markdown",
   "metadata": {},
   "source": [
    "### Clean DataFrame"
   ]
  },
  {
   "cell_type": "markdown",
   "metadata": {},
   "source": [
    "### Connect to local database"
   ]
  },
  {
   "cell_type": "code",
   "execution_count": 4,
   "metadata": {},
   "outputs": [],
   "source": [
    "rds_connection_string = \"postgres:postgres@localhost:5432/KC_BBQ_Fests\"\n",
    "engine = create_engine(f'postgresql://{rds_connection_string}')"
   ]
  },
  {
   "cell_type": "markdown",
   "metadata": {},
   "source": [
    "### Check for tables"
   ]
  },
  {
   "cell_type": "code",
   "execution_count": 8,
   "metadata": {},
   "outputs": [
    {
     "data": {
      "text/plain": [
       "['teams', 'competitions_df', 'results']"
      ]
     },
     "execution_count": 8,
     "metadata": {},
     "output_type": "execute_result"
    }
   ],
   "source": [
    "engine.table_names()"
   ]
  },
  {
   "cell_type": "markdown",
   "metadata": {},
   "source": [
    "### Use pandas to load csv converted DataFrame into database"
   ]
  },
  {
   "cell_type": "code",
   "execution_count": 6,
   "metadata": {},
   "outputs": [],
   "source": [
    "competitions_df.to_sql(name='competitions_df', con=engine, if_exists='append', index=False)"
   ]
  },
  {
   "cell_type": "markdown",
   "metadata": {},
   "source": [
    "### Confirm data has been added by querying the customer_location table"
   ]
  },
  {
   "cell_type": "code",
   "execution_count": 7,
   "metadata": {},
   "outputs": [
    {
     "data": {
      "text/html": [
       "<div>\n",
       "<style scoped>\n",
       "    .dataframe tbody tr th:only-of-type {\n",
       "        vertical-align: middle;\n",
       "    }\n",
       "\n",
       "    .dataframe tbody tr th {\n",
       "        vertical-align: top;\n",
       "    }\n",
       "\n",
       "    .dataframe thead th {\n",
       "        text-align: right;\n",
       "    }\n",
       "</style>\n",
       "<table border=\"1\" class=\"dataframe\">\n",
       "  <thead>\n",
       "    <tr style=\"text-align: right;\">\n",
       "      <th></th>\n",
       "      <th>id</th>\n",
       "      <th>kcbs_competition_id</th>\n",
       "      <th>location</th>\n",
       "      <th>start_date</th>\n",
       "    </tr>\n",
       "  </thead>\n",
       "  <tbody>\n",
       "    <tr>\n",
       "      <th>0</th>\n",
       "      <td>1</td>\n",
       "      <td>614</td>\n",
       "      <td>Felda, FL</td>\n",
       "      <td>2007-01-01</td>\n",
       "    </tr>\n",
       "    <tr>\n",
       "      <th>1</th>\n",
       "      <td>2</td>\n",
       "      <td>621</td>\n",
       "      <td>North Kansas City, MO</td>\n",
       "      <td>2007-03-09</td>\n",
       "    </tr>\n",
       "    <tr>\n",
       "      <th>2</th>\n",
       "      <td>3</td>\n",
       "      <td>624</td>\n",
       "      <td>Enid, OK</td>\n",
       "      <td>2007-04-13</td>\n",
       "    </tr>\n",
       "    <tr>\n",
       "      <th>3</th>\n",
       "      <td>4</td>\n",
       "      <td>625</td>\n",
       "      <td>Osage City, KS</td>\n",
       "      <td>2007-04-13</td>\n",
       "    </tr>\n",
       "    <tr>\n",
       "      <th>4</th>\n",
       "      <td>5</td>\n",
       "      <td>626</td>\n",
       "      <td>Los Angeles, CA</td>\n",
       "      <td>2007-04-13</td>\n",
       "    </tr>\n",
       "  </tbody>\n",
       "</table>\n",
       "</div>"
      ],
      "text/plain": [
       "   id  kcbs_competition_id               location  start_date\n",
       "0   1                  614              Felda, FL  2007-01-01\n",
       "1   2                  621  North Kansas City, MO  2007-03-09\n",
       "2   3                  624               Enid, OK  2007-04-13\n",
       "3   4                  625         Osage City, KS  2007-04-13\n",
       "4   5                  626        Los Angeles, CA  2007-04-13"
      ]
     },
     "execution_count": 7,
     "metadata": {},
     "output_type": "execute_result"
    }
   ],
   "source": [
    "pd.read_sql_query('select * from competitions_df', con=engine).head()"
   ]
  },
  {
   "cell_type": "code",
   "execution_count": null,
   "metadata": {},
   "outputs": [],
   "source": []
  }
 ],
 "metadata": {
  "kernelspec": {
   "display_name": "Python 3",
   "language": "python",
   "name": "python3"
  },
  "language_info": {
   "codemirror_mode": {
    "name": "ipython",
    "version": 3
   },
   "file_extension": ".py",
   "mimetype": "text/x-python",
   "name": "python",
   "nbconvert_exporter": "python",
   "pygments_lexer": "ipython3",
   "version": "3.8.5"
  },
  "nteract": {
   "version": "0.12.3"
  }
 },
 "nbformat": 4,
 "nbformat_minor": 2
}
